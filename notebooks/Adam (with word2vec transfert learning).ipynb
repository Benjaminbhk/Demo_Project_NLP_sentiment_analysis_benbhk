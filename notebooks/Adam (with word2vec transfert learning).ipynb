{
 "cells": [
  {
   "cell_type": "markdown",
   "id": "cdf1a24d-f958-435e-8e41-703ab94059c1",
   "metadata": {},
   "source": [
    "# Model Adam (with word2vec transfert learning)"
   ]
  },
  {
   "cell_type": "markdown",
   "id": "2717b71c-99e1-469b-9fe9-7cfcf189c004",
   "metadata": {},
   "source": [
    "## Data loading (from data)"
   ]
  },
  {
   "cell_type": "code",
   "execution_count": 13,
   "id": "ffebd9dc-d296-493e-8ca9-a6538ffc9cc7",
   "metadata": {},
   "outputs": [],
   "source": [
    "import pandas as pd\n",
    "\n",
    "Test_df = pd.read_csv('../Demo_Project_NLP_sentiment_analysis_benbhk/data/X_test.csv')\n",
    "Train_df = pd.read_csv('../Demo_Project_NLP_sentiment_analysis_benbhk/data/X_train.csv')\n",
    "Test_df.dropna(inplace=True)\n",
    "Train_df.dropna(inplace=True)"
   ]
  },
  {
   "cell_type": "code",
   "execution_count": 14,
   "id": "60af34eb-61da-4252-ab24-5f788d4cdf93",
   "metadata": {},
   "outputs": [],
   "source": [
    "Test_df.drop(columns=['Unnamed: 0'],inplace=True)\n",
    "Train_df.drop(columns=['Unnamed: 0'],inplace=True)"
   ]
  },
  {
   "cell_type": "markdown",
   "id": "695747ce-50f0-475c-8a33-ca448957ef75",
   "metadata": {},
   "source": [
    "## Data Processing"
   ]
  },
  {
   "cell_type": "code",
   "execution_count": 15,
   "id": "326165ab-3416-4a3c-a29a-73459cd22443",
   "metadata": {},
   "outputs": [],
   "source": [
    "Test_df['Sentiment_num'] = -1\n",
    "Test_df.loc[Test_df['Sentiment'] =='Extremely Negative','Sentiment_num'] = 0\n",
    "Test_df.loc[Test_df['Sentiment'] =='Negative','Sentiment_num'] = 1\n",
    "Test_df.loc[Test_df['Sentiment'] =='Neutral','Sentiment_num'] = 2\n",
    "Test_df.loc[Test_df['Sentiment'] =='Positive','Sentiment_num'] = 3\n",
    "Test_df.loc[Test_df['Sentiment'] =='Extremely Positive','Sentiment_num'] = 4\n",
    "\n",
    "Train_df.loc[Train_df['Sentiment'] =='Extremely Negative','Sentiment_num'] = 0\n",
    "Train_df.loc[Train_df['Sentiment'] =='Negative','Sentiment_num'] = 1\n",
    "Train_df.loc[Train_df['Sentiment'] =='Neutral','Sentiment_num'] = 2\n",
    "Train_df.loc[Train_df['Sentiment'] =='Positive','Sentiment_num'] = 3\n",
    "Train_df.loc[Train_df['Sentiment'] =='Extremely Positive','Sentiment_num'] = 4\n",
    "\n",
    "# Test_df[Test_df['Sentiment']=='Extremely Negative']['Sentiment_num'] = 0"
   ]
  },
  {
   "cell_type": "code",
   "execution_count": 16,
   "id": "18581106-3481-40ce-9268-da49600c699b",
   "metadata": {},
   "outputs": [],
   "source": [
    "X_test = Test_df['OriginalTweet'].to_numpy()\n",
    "X_train = Train_df['OriginalTweet'].to_numpy()\n",
    "y_test = Test_df['Sentiment_num'].to_numpy(dtype=int)\n",
    "y_train = Train_df['Sentiment_num'].to_numpy(dtype=int)"
   ]
  },
  {
   "cell_type": "code",
   "execution_count": 17,
   "id": "6b7315fa-d58c-489d-811f-8d5cdde6c601",
   "metadata": {},
   "outputs": [],
   "source": [
    "for i in range(len(X_train)):\n",
    "    X_train[i] = str.encode(X_train[i])\n",
    "for i in range(len(X_test)):\n",
    "    X_test[i] = str.encode(X_test[i])"
   ]
  },
  {
   "cell_type": "code",
   "execution_count": 18,
   "id": "60bac5bc-a23a-40b4-aaef-4a6128d1dacc",
   "metadata": {},
   "outputs": [],
   "source": [
    "from tensorflow.keras.preprocessing.text import text_to_word_sequence\n",
    "X_train = [text_to_word_sequence(_.decode(\"utf-8\")) for _ in X_train]\n",
    "X_test = [text_to_word_sequence(_.decode(\"utf-8\")) for _ in X_test]"
   ]
  },
  {
   "cell_type": "markdown",
   "id": "07cf0960-86a6-43af-a856-f01d57c4ed88",
   "metadata": {},
   "source": [
    "## Word2vec loading"
   ]
  },
  {
   "cell_type": "code",
   "execution_count": 19,
   "id": "497c577b-2bf9-4687-8267-f17ec5ea8568",
   "metadata": {},
   "outputs": [
    {
     "name": "stdout",
     "output_type": "stream",
     "text": [
      "['fasttext-wiki-news-subwords-300', 'conceptnet-numberbatch-17-06-300', 'word2vec-ruscorpora-300', 'word2vec-google-news-300', 'glove-wiki-gigaword-50', 'glove-wiki-gigaword-100', 'glove-wiki-gigaword-200', 'glove-wiki-gigaword-300', 'glove-twitter-25', 'glove-twitter-50', 'glove-twitter-100', 'glove-twitter-200', '__testing_word2vec-matrix-synopsis']\n"
     ]
    }
   ],
   "source": [
    "import gensim.downloader as api\n",
    "print(list(api.info()['models'].keys()))"
   ]
  },
  {
   "cell_type": "code",
   "execution_count": 20,
   "id": "856c8f15-7697-4e87-a981-bc1bfb245643",
   "metadata": {},
   "outputs": [],
   "source": [
    "# word2vec_transfer = api.load('glove-wiki-gigaword-200')"
   ]
  },
  {
   "cell_type": "code",
   "execution_count": 22,
   "id": "993c0fd3-b8db-439b-8ac4-3e6853dd325c",
   "metadata": {},
   "outputs": [],
   "source": [
    "# word2vec_transfer.save_word2vec_format('vectors.txt', binary=False)"
   ]
  },
  {
   "cell_type": "code",
   "execution_count": 23,
   "id": "72d666e2-cb11-4372-af95-c8efde302bb7",
   "metadata": {},
   "outputs": [],
   "source": [
    "from gensim.models import KeyedVectors\n",
    "\n",
    "vectors_reloaded = KeyedVectors.load_word2vec_format('../Demo_Project_NLP_sentiment_analysis_benbhk/models/glove-wiki-gigaword-200.txt', binary=False)"
   ]
  },
  {
   "cell_type": "markdown",
   "id": "6bb1f4b5-57bf-40e0-a926-9d95ef1c5e12",
   "metadata": {},
   "source": [
    "## Word2vec processing"
   ]
  },
  {
   "cell_type": "code",
   "execution_count": 28,
   "id": "90fe41b2-f963-4903-b6ce-7d26ceec0f0d",
   "metadata": {},
   "outputs": [],
   "source": [
    "from tensorflow.keras.preprocessing.sequence import pad_sequences\n",
    "import numpy as np\n",
    "\n",
    "# Function to convert a sentence (list of words) into a matrix representing the words in the embedding space\n",
    "def embed_sentence_with_TF(word2vec, sentence):\n",
    "    embedded_sentence = []\n",
    "    for word in sentence:\n",
    "        if word in word2vec:\n",
    "            embedded_sentence.append(word2vec[word])\n",
    "        \n",
    "    return np.array(embedded_sentence)\n",
    "\n",
    "# Function that converts a list of sentences into a list of matrices\n",
    "def embedding(word2vec, sentences):\n",
    "    embed = []\n",
    "    \n",
    "    for sentence in sentences:\n",
    "        embedded_sentence = embed_sentence_with_TF(word2vec, sentence)\n",
    "        embed.append(embedded_sentence)\n",
    "        \n",
    "    return embed\n",
    "\n",
    "# Embed the training and test sentences\n",
    "# X_train_embed_2 = embedding(word2vec_transfer, X_train)\n",
    "# X_test_embed_2 = embedding(word2vec_transfer, X_test)\n",
    "\n",
    "X_train_embed_2 = embedding(vectors_reloaded, X_train)\n",
    "X_test_embed_2 = embedding(vectors_reloaded, X_test)"
   ]
  },
  {
   "cell_type": "markdown",
   "id": "46f43936-34d8-4971-bf54-a9ac1a5edfb7",
   "metadata": {},
   "source": [
    "## Padding (post)"
   ]
  },
  {
   "cell_type": "code",
   "execution_count": null,
   "id": "0bfdcef6-708b-4ff5-85d5-3f741be6580c",
   "metadata": {},
   "outputs": [],
   "source": [
    "from tensorflow.keras.preprocessing.sequence import pad_sequences\n",
    "import numpy as np\n",
    "\n",
    "X_train_pad_2 = pad_sequences(X_train_embed_2, dtype='float32', padding='post', maxlen=100)\n",
    "X_test_pad_2 = pad_sequences(X_test_embed_2, dtype='float32', padding='post', maxlen=100)"
   ]
  },
  {
   "cell_type": "markdown",
   "id": "2c61f40c-9e44-49a0-a8b7-4eee7c20f486",
   "metadata": {},
   "source": [
    "## Model creation "
   ]
  },
  {
   "cell_type": "code",
   "execution_count": null,
   "id": "4c3deb0e-2857-4a11-9c74-006c46b798f9",
   "metadata": {},
   "outputs": [],
   "source": [
    "from tensorflow.keras.layers.experimental.preprocessing import Normalization\n",
    "# from tensorflow.keras.layers import Normalization\n",
    "from tensorflow.keras.models import Sequential\n",
    "from tensorflow.keras.layers import Dense, SimpleRNN, Flatten\n",
    "from tensorflow.keras import layers\n",
    "\n",
    "model = Sequential()\n",
    "model.add(layers.Masking(mask_value=0, input_shape=(100,200)))\n",
    "model.add(layers.LSTM(units=32, activation=\"tanh\"))\n",
    "model.add(layers.Dense(32,activation=\"tanh\"))\n",
    "model.add(layers.Dense(16,activation=\"relu\"))\n",
    "model.add(layers.Dense(8,activation=\"relu\"))\n",
    "model.add(layers.Dense(2,activation=\"relu\"))\n",
    "model.add(layers.Dense(5,activation=\"relu\"))\n",
    "model.add(layers.Dense(5,activation=\"softmax\"))"
   ]
  },
  {
   "cell_type": "code",
   "execution_count": null,
   "id": "1a7da9bf-a873-4b6a-8aa6-657ad93c6382",
   "metadata": {},
   "outputs": [],
   "source": [
    "from tensorflow.keras.callbacks import EarlyStopping\n",
    "from tensorflow.keras.optimizers import SGD\n",
    "from tensorflow.keras.optimizers import Adam\n",
    "\n",
    "\n",
    "model.compile(loss='sparse_categorical_crossentropy',\n",
    "              # optimizer='rmsprop',\n",
    "              optimizer=Adam(learning_rate=0.005),\n",
    "              metrics=['accuracy'])\n",
    "\n",
    "es = EarlyStopping(patience=10,restore_best_weights=True)\n",
    "\n",
    "history = model.fit(X_train_pad_2, y_train,\n",
    "                    validation_split=0.2,\n",
    "                    epochs=500, \n",
    "                    callbacks=[es],\n",
    "                    batch_size=32, \n",
    "                    verbose=1)"
   ]
  },
  {
   "cell_type": "code",
   "execution_count": null,
   "id": "0c7b7d3e-2967-4873-80b1-7bee0a0ab4a3",
   "metadata": {},
   "outputs": [],
   "source": [
    "res = model.evaluate(X_test_pad_2, y_test, verbose=1)\n",
    "\n",
    "print(f'The accuracy evaluated on the test set is of {res[1]*100:.3f}%')"
   ]
  },
  {
   "cell_type": "markdown",
   "id": "31fae0f9-90c4-4751-b681-809966d19b41",
   "metadata": {},
   "source": [
    "### save the model"
   ]
  },
  {
   "cell_type": "code",
   "execution_count": null,
   "id": "697705d5-19ee-4814-8793-a24078ba2965",
   "metadata": {},
   "outputs": [],
   "source": [
    "import pickle as pkl\n",
    "\n",
    "pkl.dump(model, open('../Demo_Project_NLP_sentiment_analysis_benbhk/models/model_Adam_5cat', 'wb'))"
   ]
  },
  {
   "cell_type": "markdown",
   "id": "b5395a2d-f61d-469d-ac91-81e33de7cab2",
   "metadata": {},
   "source": [
    "### load the model"
   ]
  },
  {
   "cell_type": "code",
   "execution_count": 25,
   "id": "dfafae86-fd75-4824-ace0-8e2cb9c4fab7",
   "metadata": {},
   "outputs": [
    {
     "name": "stderr",
     "output_type": "stream",
     "text": [
      "2022-04-25 18:26:18.800779: W tensorflow/core/common_runtime/graph_constructor.cc:803] Node 'cond/while' has 13 outputs but the _output_shapes attribute specifies shapes for 46 outputs. Output shapes may be inaccurate.\n",
      "2022-04-25 18:26:19.579927: W tensorflow/core/common_runtime/graph_constructor.cc:803] Node 'cond' has 5 outputs but the _output_shapes attribute specifies shapes for 46 outputs. Output shapes may be inaccurate.\n"
     ]
    },
    {
     "name": "stdout",
     "output_type": "stream",
     "text": [
      "WARNING:tensorflow:Unresolved object in checkpoint: (root).__call__\n",
      "WARNING:tensorflow:Unresolved object in checkpoint: (root).call_and_return_all_conditional_losses\n",
      "WARNING:tensorflow:Unresolved object in checkpoint: (root)._default_save_signature\n",
      "WARNING:tensorflow:Unresolved object in checkpoint: (root).layer-0.__call__\n",
      "WARNING:tensorflow:Unresolved object in checkpoint: (root).layer-0.call_and_return_all_conditional_losses\n",
      "WARNING:tensorflow:Unresolved object in checkpoint: (root).layer_with_weights-0.__call__\n",
      "WARNING:tensorflow:Unresolved object in checkpoint: (root).layer_with_weights-0.call_and_return_all_conditional_losses\n",
      "WARNING:tensorflow:Unresolved object in checkpoint: (root).layer_with_weights-1.__call__\n",
      "WARNING:tensorflow:Unresolved object in checkpoint: (root).layer_with_weights-1.call_and_return_all_conditional_losses\n",
      "WARNING:tensorflow:Unresolved object in checkpoint: (root).layer_with_weights-2.__call__\n",
      "WARNING:tensorflow:Unresolved object in checkpoint: (root).layer_with_weights-2.call_and_return_all_conditional_losses\n",
      "WARNING:tensorflow:Unresolved object in checkpoint: (root).layer_with_weights-3.__call__\n",
      "WARNING:tensorflow:Unresolved object in checkpoint: (root).layer_with_weights-3.call_and_return_all_conditional_losses\n",
      "WARNING:tensorflow:Unresolved object in checkpoint: (root).layer_with_weights-4.__call__\n",
      "WARNING:tensorflow:Unresolved object in checkpoint: (root).layer_with_weights-4.call_and_return_all_conditional_losses\n",
      "WARNING:tensorflow:Unresolved object in checkpoint: (root).layer_with_weights-5.__call__\n",
      "WARNING:tensorflow:Unresolved object in checkpoint: (root).layer_with_weights-5.call_and_return_all_conditional_losses\n",
      "WARNING:tensorflow:Unresolved object in checkpoint: (root).layer_with_weights-6.__call__\n",
      "WARNING:tensorflow:Unresolved object in checkpoint: (root).layer_with_weights-6.call_and_return_all_conditional_losses\n",
      "WARNING:tensorflow:Unresolved object in checkpoint: (root).signatures.serving_default\n",
      "WARNING:tensorflow:Unresolved object in checkpoint: (root).layer_with_weights-0.cell.__call__\n",
      "WARNING:tensorflow:Unresolved object in checkpoint: (root).layer_with_weights-0.cell.call_and_return_all_conditional_losses\n",
      "WARNING:tensorflow:A checkpoint was restored (e.g. tf.train.Checkpoint.restore or tf.keras.Model.load_weights) but not all checkpointed values were used. See above for specific issues. Use expect_partial() on the load status object, e.g. tf.train.Checkpoint.restore(...).expect_partial(), to silence these warnings, or use assert_consumed() to make the check explicit. See https://www.tensorflow.org/guide/checkpoint#loading_mechanics for details.\n"
     ]
    },
    {
     "name": "stderr",
     "output_type": "stream",
     "text": [
      "2022-04-25 18:26:23.694307: W tensorflow/core/common_runtime/graph_constructor.cc:803] Node 'cond/while' has 13 outputs but the _output_shapes attribute specifies shapes for 46 outputs. Output shapes may be inaccurate.\n",
      "2022-04-25 18:26:23.774880: W tensorflow/core/common_runtime/graph_constructor.cc:803] Node 'cond' has 5 outputs but the _output_shapes attribute specifies shapes for 46 outputs. Output shapes may be inaccurate.\n",
      "2022-04-25 18:26:24.172546: W tensorflow/core/common_runtime/graph_constructor.cc:803] Node 'cond/while' has 13 outputs but the _output_shapes attribute specifies shapes for 46 outputs. Output shapes may be inaccurate.\n",
      "2022-04-25 18:26:24.275384: W tensorflow/core/common_runtime/graph_constructor.cc:803] Node 'cond' has 5 outputs but the _output_shapes attribute specifies shapes for 46 outputs. Output shapes may be inaccurate.\n"
     ]
    }
   ],
   "source": [
    "import pickle as pkl\n",
    "\n",
    "model = pkl.load(open('../Demo_Project_NLP_sentiment_analysis_benbhk/models/model_Adam_5cat', 'rb'))"
   ]
  },
  {
   "cell_type": "code",
   "execution_count": 26,
   "id": "f95a9c8f-9374-4797-8481-7ed2ab92a8d5",
   "metadata": {},
   "outputs": [
    {
     "ename": "NameError",
     "evalue": "name 'X_test_pad_2' is not defined",
     "output_type": "error",
     "traceback": [
      "\u001b[0;31m---------------------------------------------------------------------------\u001b[0m",
      "\u001b[0;31mNameError\u001b[0m                                 Traceback (most recent call last)",
      "\u001b[0;32m/tmp/ipykernel_1057/3887201679.py\u001b[0m in \u001b[0;36m<module>\u001b[0;34m\u001b[0m\n\u001b[0;32m----> 1\u001b[0;31m \u001b[0mres\u001b[0m \u001b[0;34m=\u001b[0m \u001b[0mmodel\u001b[0m\u001b[0;34m.\u001b[0m\u001b[0mevaluate\u001b[0m\u001b[0;34m(\u001b[0m\u001b[0mX_test_pad_2\u001b[0m\u001b[0;34m,\u001b[0m \u001b[0my_test\u001b[0m\u001b[0;34m,\u001b[0m \u001b[0mverbose\u001b[0m\u001b[0;34m=\u001b[0m\u001b[0;36m1\u001b[0m\u001b[0;34m)\u001b[0m\u001b[0;34m\u001b[0m\u001b[0;34m\u001b[0m\u001b[0m\n\u001b[0m\u001b[1;32m      2\u001b[0m \u001b[0;34m\u001b[0m\u001b[0m\n\u001b[1;32m      3\u001b[0m \u001b[0mprint\u001b[0m\u001b[0;34m(\u001b[0m\u001b[0;34mf'The accuracy evaluated on the test set is of {res[1]*100:.3f}%'\u001b[0m\u001b[0;34m)\u001b[0m\u001b[0;34m\u001b[0m\u001b[0;34m\u001b[0m\u001b[0m\n",
      "\u001b[0;31mNameError\u001b[0m: name 'X_test_pad_2' is not defined"
     ]
    }
   ],
   "source": [
    "res = model.evaluate(X_test_pad_2, y_test, verbose=1)\n",
    "\n",
    "print(f'The accuracy evaluated on the test set is of {res[1]*100:.3f}%')"
   ]
  }
 ],
 "metadata": {
  "kernelspec": {
   "display_name": "Python 3 (ipykernel)",
   "language": "python",
   "name": "python3"
  },
  "language_info": {
   "codemirror_mode": {
    "name": "ipython",
    "version": 3
   },
   "file_extension": ".py",
   "mimetype": "text/x-python",
   "name": "python",
   "nbconvert_exporter": "python",
   "pygments_lexer": "ipython3",
   "version": "3.8.12"
  }
 },
 "nbformat": 4,
 "nbformat_minor": 5
}
